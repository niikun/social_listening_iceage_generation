{
 "cells": [
  {
   "cell_type": "code",
   "execution_count": null,
   "id": "f6af3f37",
   "metadata": {
    "vscode": {
     "languageId": "plaintext"
    }
   },
   "outputs": [],
   "source": "import pandas as pd\nimport matplotlib.pyplot as plt \nimport seaborn as sns"
  },
  {
   "cell_type": "code",
   "execution_count": null,
   "id": "a2b2f2c9",
   "metadata": {
    "vscode": {
     "languageId": "plaintext"
    }
   },
   "outputs": [],
   "source": "print(\"Jupyter環境テスト\")\nprint(\"ライブラリの確認:\")"
  },
  {
   "cell_type": "code",
   "execution_count": null,
   "id": "7830cb23",
   "metadata": {
    "vscode": {
     "languageId": "plaintext"
    }
   },
   "outputs": [],
   "source": "# データファイル読み込みテスト\nimport os\nprint(\"現在のディレクトリ:\", os.getcwd())\nprint(\"ファイル一覧:\", os.listdir('.'))\n\n# CSVファイルが存在する場合のみ読み込み\nif os.path.exists(\"sy24rv10rc.csv\"):\n    ds1 = pd.read_csv(\"sy24rv10rc.csv\")\n    print(\"データ読み込み成功\")\n    print(f\"データ形状: {ds1.shape}\")\n    print(ds1.head())\nelse:\n    print(\"sy24rv10rc.csv が見つかりません\")"
  },
  {
   "cell_type": "code",
   "execution_count": null,
   "id": "527871dc",
   "metadata": {
    "vscode": {
     "languageId": "plaintext"
    }
   },
   "outputs": [],
   "source": "# 簡単な可視化テスト\nimport matplotlib.pyplot as plt\nimport numpy as np\n\n# サンプルデータで動作確認\nx = np.linspace(0, 10, 100)\ny = np.sin(x)\n\nplt.figure(figsize=(8, 4))\nplt.plot(x, y)\nplt.title('Matplotlib テスト')\nplt.xlabel('X')\nplt.ylabel('Y')\nplt.grid(True)\nplt.show()\n\nprint(\"可視化テスト完了\")"
  }
 ],
 "metadata": {
  "language_info": {
   "name": "python"
  }
 },
 "nbformat": 4,
 "nbformat_minor": 5
}